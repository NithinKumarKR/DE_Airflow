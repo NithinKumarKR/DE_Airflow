{
 "cells": [
  {
   "cell_type": "code",
   "execution_count": 29,
   "id": "f8aff6da-a434-44f9-a4c1-80399c05a06f",
   "metadata": {},
   "outputs": [],
   "source": [
    "import numpy as np\n",
    "import pandas as  pd \n",
    "#import warning"
   ]
  },
  {
   "cell_type": "code",
   "execution_count": 30,
   "id": "02a670ea-a4fb-44d3-9727-4aa9b864c849",
   "metadata": {},
   "outputs": [
    {
     "name": "stdout",
     "output_type": "stream",
     "text": [
      " Volume in drive C is Windows-SSD\n",
      " Volume Serial Number is AEC7-D6E3\n",
      "\n",
      " Directory of C:\\Users\\nithi\\Desktop\\GitHub\\DE_Airflow\\ETL\n",
      "\n",
      "22-06-2025  12:04    <DIR>          .\n",
      "22-06-2025  12:14    <DIR>          ..\n",
      "16-04-2025  19:35            41,715 accounts.csv\n",
      "16-04-2025  19:35             2,177 products.csv\n",
      "16-04-2025  19:35           277,144 transactions.csv\n",
      "               3 File(s)        321,036 bytes\n",
      "               2 Dir(s)  402,210,988,032 bytes free\n"
     ]
    }
   ],
   "source": [
    "ls"
   ]
  },
  {
   "cell_type": "code",
   "execution_count": 214,
   "id": "00b17eb2-f7a9-4a31-9a15-d1956b103671",
   "metadata": {},
   "outputs": [
    {
     "name": "stdout",
     "output_type": "stream",
     "text": [
      "<class 'pandas.core.frame.DataFrame'>\n",
      "RangeIndex: 5 entries, 0 to 4\n",
      "Data columns (total 9 columns):\n",
      " #   Column       Non-Null Count  Dtype \n",
      "---  ------       --------------  ----- \n",
      " 0   customer_id  5 non-null      int64 \n",
      " 1   first_name   5 non-null      object\n",
      " 2   last_name    5 non-null      object\n",
      " 3   address_1    5 non-null      object\n",
      " 4   address_2    5 non-null      object\n",
      " 5   city         5 non-null      object\n",
      " 6   state        5 non-null      object\n",
      " 7   zip_code     5 non-null      int64 \n",
      " 8   join_date    5 non-null      object\n",
      "dtypes: int64(2), object(7)\n",
      "memory usage: 492.0+ bytes\n"
     ]
    }
   ],
   "source": [
    "a = pd.read_csv(\"accounts.csv\").head()\n",
    "a.info()"
   ]
  },
  {
   "cell_type": "code",
   "execution_count": 215,
   "id": "e4b47864-1ba8-48fb-9db6-e32613039094",
   "metadata": {},
   "outputs": [
    {
     "data": {
      "text/html": [
       "<div>\n",
       "<style scoped>\n",
       "    .dataframe tbody tr th:only-of-type {\n",
       "        vertical-align: middle;\n",
       "    }\n",
       "\n",
       "    .dataframe tbody tr th {\n",
       "        vertical-align: top;\n",
       "    }\n",
       "\n",
       "    .dataframe thead th {\n",
       "        text-align: right;\n",
       "    }\n",
       "</style>\n",
       "<table border=\"1\" class=\"dataframe\">\n",
       "  <thead>\n",
       "    <tr style=\"text-align: right;\">\n",
       "      <th></th>\n",
       "      <th>ext_cus_id</th>\n",
       "      <th>first_name</th>\n",
       "      <th>last_name</th>\n",
       "      <th>address_1</th>\n",
       "      <th>address_2</th>\n",
       "      <th>city</th>\n",
       "      <th>state</th>\n",
       "      <th>zip_code</th>\n",
       "      <th>join_date</th>\n",
       "      <th>full_name</th>\n",
       "      <th>address</th>\n",
       "      <th>cust_id</th>\n",
       "    </tr>\n",
       "  </thead>\n",
       "  <tbody>\n",
       "    <tr>\n",
       "      <th>0</th>\n",
       "      <td>1000</td>\n",
       "      <td>Camila</td>\n",
       "      <td>Oliveira</td>\n",
       "      <td>2977 Rua do Comércio</td>\n",
       "      <td>Apto 124</td>\n",
       "      <td>Belo Horizonte</td>\n",
       "      <td>RS</td>\n",
       "      <td>66366</td>\n",
       "      <td>2022-03-17</td>\n",
       "      <td>Camila Oliveira</td>\n",
       "      <td>2977 Rua do Comércio Apto 124 Belo Horizonte R...</td>\n",
       "      <td>GL1000000000</td>\n",
       "    </tr>\n",
       "    <tr>\n",
       "      <th>1</th>\n",
       "      <td>1001</td>\n",
       "      <td>Thiago</td>\n",
       "      <td>Lima</td>\n",
       "      <td>428 Avenida Brasil</td>\n",
       "      <td>Apto 173</td>\n",
       "      <td>Belo Horizonte</td>\n",
       "      <td>RS</td>\n",
       "      <td>85305</td>\n",
       "      <td>2022-09-06</td>\n",
       "      <td>Thiago Lima</td>\n",
       "      <td>428 Avenida Brasil Apto 173 Belo Horizonte RS ...</td>\n",
       "      <td>GL1000000001</td>\n",
       "    </tr>\n",
       "    <tr>\n",
       "      <th>2</th>\n",
       "      <td>1002</td>\n",
       "      <td>Aline</td>\n",
       "      <td>Oliveira</td>\n",
       "      <td>8687 Alameda dos Anjos</td>\n",
       "      <td>Apto 382</td>\n",
       "      <td>Salvador</td>\n",
       "      <td>BA</td>\n",
       "      <td>58878</td>\n",
       "      <td>2022-07-30</td>\n",
       "      <td>Aline Oliveira</td>\n",
       "      <td>8687 Alameda dos Anjos Apto 382 Salvador BA 0 ...</td>\n",
       "      <td>GL1000000002</td>\n",
       "    </tr>\n",
       "    <tr>\n",
       "      <th>3</th>\n",
       "      <td>1003</td>\n",
       "      <td>Aline</td>\n",
       "      <td>Cardoso</td>\n",
       "      <td>8676 Rua do Comércio</td>\n",
       "      <td>Apto 229</td>\n",
       "      <td>Curitiba</td>\n",
       "      <td>DF</td>\n",
       "      <td>24338</td>\n",
       "      <td>2024-12-16</td>\n",
       "      <td>Aline Cardoso</td>\n",
       "      <td>8676 Rua do Comércio Apto 229 Curitiba DF 0   ...</td>\n",
       "      <td>GL1000000003</td>\n",
       "    </tr>\n",
       "    <tr>\n",
       "      <th>4</th>\n",
       "      <td>1004</td>\n",
       "      <td>Fernanda</td>\n",
       "      <td>Costa</td>\n",
       "      <td>2701 Avenida Brasil</td>\n",
       "      <td>Apto 486</td>\n",
       "      <td>Brasília</td>\n",
       "      <td>RS</td>\n",
       "      <td>34158</td>\n",
       "      <td>2023-10-14</td>\n",
       "      <td>Fernanda Costa</td>\n",
       "      <td>2701 Avenida Brasil Apto 486 Brasília RS 0    ...</td>\n",
       "      <td>GL1000000004</td>\n",
       "    </tr>\n",
       "  </tbody>\n",
       "</table>\n",
       "</div>"
      ],
      "text/plain": [
       "   ext_cus_id first_name last_name               address_1 address_2  \\\n",
       "0        1000     Camila  Oliveira    2977 Rua do Comércio  Apto 124   \n",
       "1        1001     Thiago      Lima      428 Avenida Brasil  Apto 173   \n",
       "2        1002      Aline  Oliveira  8687 Alameda dos Anjos  Apto 382   \n",
       "3        1003      Aline   Cardoso    8676 Rua do Comércio  Apto 229   \n",
       "4        1004   Fernanda     Costa     2701 Avenida Brasil  Apto 486   \n",
       "\n",
       "             city state  zip_code   join_date        full_name  \\\n",
       "0  Belo Horizonte    RS     66366  2022-03-17  Camila Oliveira   \n",
       "1  Belo Horizonte    RS     85305  2022-09-06      Thiago Lima   \n",
       "2        Salvador    BA     58878  2022-07-30   Aline Oliveira   \n",
       "3        Curitiba    DF     24338  2024-12-16    Aline Cardoso   \n",
       "4        Brasília    RS     34158  2023-10-14   Fernanda Costa   \n",
       "\n",
       "                                             address       cust_id  \n",
       "0  2977 Rua do Comércio Apto 124 Belo Horizonte R...  GL1000000000  \n",
       "1  428 Avenida Brasil Apto 173 Belo Horizonte RS ...  GL1000000001  \n",
       "2  8687 Alameda dos Anjos Apto 382 Salvador BA 0 ...  GL1000000002  \n",
       "3  8676 Rua do Comércio Apto 229 Curitiba DF 0   ...  GL1000000003  \n",
       "4  2701 Avenida Brasil Apto 486 Brasília RS 0    ...  GL1000000004  "
      ]
     },
     "execution_count": 215,
     "metadata": {},
     "output_type": "execute_result"
    }
   ],
   "source": [
    "cus =a.copy()#[['first_name','last_name']]\n",
    "cus['full_name']=cus['first_name']+' '+cus['last_name']\n",
    "#cus.drop('customer_id',axis=1, inplace=True)\n",
    "cus.rename(columns = {'customer_id':'ext_cus_id'},inplace=True)\n",
    "cus['ext_cus_id']=cus['ext_cus_id'].astype(int)#.str.strip()\n",
    "cus['address'] = cus['address_1'] +' '+cus['address_2']+' '+cus['city']+' '+cus['state']+' '+str(cus['zip_code'])\n",
    "cus['cust_id']=['GL'+str(i) for i in range(1000000000,1000000000+len(cus))]\n",
    "cus.head()"
   ]
  },
  {
   "cell_type": "markdown",
   "id": "673b0b66-fc39-4863-af33-be3b9cb6b82a",
   "metadata": {},
   "source": [
    "# Working on products"
   ]
  },
  {
   "cell_type": "code",
   "execution_count": 216,
   "id": "88c57f5d-62ca-40ad-b714-53192eb4a213",
   "metadata": {},
   "outputs": [
    {
     "name": "stdout",
     "output_type": "stream",
     "text": [
      "<class 'pandas.core.frame.DataFrame'>\n",
      "RangeIndex: 5 entries, 0 to 4\n",
      "Data columns (total 3 columns):\n",
      " #   Column               Non-Null Count  Dtype \n",
      "---  ------               --------------  ----- \n",
      " 0   product_id           5 non-null      int64 \n",
      " 1   product_code         5 non-null      object\n",
      " 2   product_description  5 non-null      object\n",
      "dtypes: int64(1), object(2)\n",
      "memory usage: 252.0+ bytes\n"
     ]
    }
   ],
   "source": [
    "p = pd.read_csv(\"products.csv\").head()\n",
    "p.info()"
   ]
  },
  {
   "cell_type": "markdown",
   "id": "1464316d-ac7a-44d1-87af-38bffaaedf66",
   "metadata": {},
   "source": [
    "# Working on transactions"
   ]
  },
  {
   "cell_type": "code",
   "execution_count": 217,
   "id": "5517abf3-4cd2-4ad6-b483-fdbf1e3cbbe4",
   "metadata": {},
   "outputs": [
    {
     "data": {
      "text/html": [
       "<div>\n",
       "<style scoped>\n",
       "    .dataframe tbody tr th:only-of-type {\n",
       "        vertical-align: middle;\n",
       "    }\n",
       "\n",
       "    .dataframe tbody tr th {\n",
       "        vertical-align: top;\n",
       "    }\n",
       "\n",
       "    .dataframe thead th {\n",
       "        text-align: right;\n",
       "    }\n",
       "</style>\n",
       "<table border=\"1\" class=\"dataframe\">\n",
       "  <thead>\n",
       "    <tr style=\"text-align: right;\">\n",
       "      <th></th>\n",
       "      <th>transaction_id</th>\n",
       "      <th>transaction_date</th>\n",
       "      <th>product_id</th>\n",
       "      <th>product_code</th>\n",
       "      <th>product_description</th>\n",
       "      <th>quantity</th>\n",
       "      <th>ext_cus_id</th>\n",
       "    </tr>\n",
       "  </thead>\n",
       "  <tbody>\n",
       "    <tr>\n",
       "      <th>0</th>\n",
       "      <td>1</td>\n",
       "      <td>2024-04-14</td>\n",
       "      <td>217</td>\n",
       "      <td>30</td>\n",
       "      <td>Produto G748</td>\n",
       "      <td>1.0</td>\n",
       "      <td>1114</td>\n",
       "    </tr>\n",
       "    <tr>\n",
       "      <th>1</th>\n",
       "      <td>2</td>\n",
       "      <td>2025-01-04</td>\n",
       "      <td>264</td>\n",
       "      <td>11</td>\n",
       "      <td>Produto P61</td>\n",
       "      <td>11.0</td>\n",
       "      <td>1000</td>\n",
       "    </tr>\n",
       "    <tr>\n",
       "      <th>2</th>\n",
       "      <td>3</td>\n",
       "      <td>2023-01-23</td>\n",
       "      <td>253</td>\n",
       "      <td>36</td>\n",
       "      <td>Produto S238</td>\n",
       "      <td>9.0</td>\n",
       "      <td>1057</td>\n",
       "    </tr>\n",
       "    <tr>\n",
       "      <th>3</th>\n",
       "      <td>4</td>\n",
       "      <td>2024-09-14</td>\n",
       "      <td>229</td>\n",
       "      <td>17</td>\n",
       "      <td>Produto N361</td>\n",
       "      <td>4.0</td>\n",
       "      <td>1167</td>\n",
       "    </tr>\n",
       "    <tr>\n",
       "      <th>4</th>\n",
       "      <td>5</td>\n",
       "      <td>2024-01-04</td>\n",
       "      <td>284</td>\n",
       "      <td>48</td>\n",
       "      <td>Produto C512</td>\n",
       "      <td>15.0</td>\n",
       "      <td>1298</td>\n",
       "    </tr>\n",
       "  </tbody>\n",
       "</table>\n",
       "</div>"
      ],
      "text/plain": [
       "   transaction_id transaction_date  product_id  product_code  \\\n",
       "0               1       2024-04-14         217            30   \n",
       "1               2       2025-01-04         264            11   \n",
       "2               3       2023-01-23         253            36   \n",
       "3               4       2024-09-14         229            17   \n",
       "4               5       2024-01-04         284            48   \n",
       "\n",
       "  product_description  quantity  ext_cus_id  \n",
       "0        Produto G748       1.0        1114  \n",
       "1         Produto P61      11.0        1000  \n",
       "2        Produto S238       9.0        1057  \n",
       "3        Produto N361       4.0        1167  \n",
       "4        Produto C512      15.0        1298  "
      ]
     },
     "execution_count": 217,
     "metadata": {},
     "output_type": "execute_result"
    }
   ],
   "source": [
    "t = pd.read_csv(\"transactions.csv\").head()\n",
    "t['transaction_id']=range(1,len(t)+1)\n",
    "t.rename(columns = {'account_id':'ext_cus_id'},inplace=True)\n",
    "t.head()"
   ]
  },
  {
   "cell_type": "code",
   "execution_count": 218,
   "id": "0c5ed9e0-d7d6-457d-b1c9-68d9f1019aa6",
   "metadata": {},
   "outputs": [
    {
     "name": "stdout",
     "output_type": "stream",
     "text": [
      "<class 'pandas.core.frame.DataFrame'>\n",
      "RangeIndex: 5 entries, 0 to 4\n",
      "Data columns (total 12 columns):\n",
      " #   Column      Non-Null Count  Dtype \n",
      "---  ------      --------------  ----- \n",
      " 0   ext_cus_id  5 non-null      int32 \n",
      " 1   first_name  5 non-null      object\n",
      " 2   last_name   5 non-null      object\n",
      " 3   address_1   5 non-null      object\n",
      " 4   address_2   5 non-null      object\n",
      " 5   city        5 non-null      object\n",
      " 6   state       5 non-null      object\n",
      " 7   zip_code    5 non-null      int64 \n",
      " 8   join_date   5 non-null      object\n",
      " 9   full_name   5 non-null      object\n",
      " 10  address     5 non-null      object\n",
      " 11  cust_id     5 non-null      object\n",
      "dtypes: int32(1), int64(1), object(10)\n",
      "memory usage: 592.0+ bytes\n"
     ]
    }
   ],
   "source": [
    "cus.info()"
   ]
  },
  {
   "cell_type": "code",
   "execution_count": 219,
   "id": "61695797-b673-4787-865a-0e75f98cf1f5",
   "metadata": {},
   "outputs": [
    {
     "name": "stdout",
     "output_type": "stream",
     "text": [
      "<class 'pandas.core.frame.DataFrame'>\n",
      "RangeIndex: 5 entries, 0 to 4\n",
      "Data columns (total 7 columns):\n",
      " #   Column               Non-Null Count  Dtype  \n",
      "---  ------               --------------  -----  \n",
      " 0   transaction_id       5 non-null      int64  \n",
      " 1   transaction_date     5 non-null      object \n",
      " 2   product_id           5 non-null      int64  \n",
      " 3   product_code         5 non-null      int64  \n",
      " 4   product_description  5 non-null      object \n",
      " 5   quantity             5 non-null      float64\n",
      " 6   ext_cus_id           5 non-null      int64  \n",
      "dtypes: float64(1), int64(4), object(2)\n",
      "memory usage: 412.0+ bytes\n"
     ]
    }
   ],
   "source": [
    "t.info()"
   ]
  },
  {
   "cell_type": "code",
   "execution_count": 220,
   "id": "a78bb73e-a8a1-461c-a149-262799536327",
   "metadata": {},
   "outputs": [
    {
     "data": {
      "text/html": [
       "<div>\n",
       "<style scoped>\n",
       "    .dataframe tbody tr th:only-of-type {\n",
       "        vertical-align: middle;\n",
       "    }\n",
       "\n",
       "    .dataframe tbody tr th {\n",
       "        vertical-align: top;\n",
       "    }\n",
       "\n",
       "    .dataframe thead th {\n",
       "        text-align: right;\n",
       "    }\n",
       "</style>\n",
       "<table border=\"1\" class=\"dataframe\">\n",
       "  <thead>\n",
       "    <tr style=\"text-align: right;\">\n",
       "      <th></th>\n",
       "      <th>transaction_id</th>\n",
       "      <th>transaction_date</th>\n",
       "      <th>product_id</th>\n",
       "      <th>product_code</th>\n",
       "      <th>product_description</th>\n",
       "      <th>quantity</th>\n",
       "      <th>ext_cus_id</th>\n",
       "      <th>cust_id</th>\n",
       "    </tr>\n",
       "  </thead>\n",
       "  <tbody>\n",
       "    <tr>\n",
       "      <th>0</th>\n",
       "      <td>2</td>\n",
       "      <td>2025-01-04</td>\n",
       "      <td>264</td>\n",
       "      <td>11</td>\n",
       "      <td>Produto P61</td>\n",
       "      <td>11</td>\n",
       "      <td>1000</td>\n",
       "      <td>GL1000000000</td>\n",
       "    </tr>\n",
       "  </tbody>\n",
       "</table>\n",
       "</div>"
      ],
      "text/plain": [
       "   transaction_id transaction_date  product_id  product_code  \\\n",
       "0               2       2025-01-04         264            11   \n",
       "\n",
       "  product_description  quantity  ext_cus_id       cust_id  \n",
       "0         Produto P61        11        1000  GL1000000000  "
      ]
     },
     "execution_count": 220,
     "metadata": {},
     "output_type": "execute_result"
    }
   ],
   "source": [
    "t['ext_cus_id']=t['ext_cus_id'].astype(int)#.str.strip()\n",
    "t['quantity']=t['quantity'].astype(int)#.str.strip()\n",
    "t_m = pd.merge(t,cus[['ext_cus_id','cust_id']] , on='ext_cus_id'  , how='inner' )\n",
    "t_m.head()\n",
    "#t_m[cus.columns,''].head()"
   ]
  },
  {
   "cell_type": "code",
   "execution_count": null,
   "id": "ee2932b4-9a1a-4de9-a7b5-0900a86fa2c0",
   "metadata": {},
   "outputs": [],
   "source": []
  },
  {
   "cell_type": "code",
   "execution_count": null,
   "id": "8c43eeab-9fce-415d-b2c6-d7f811cd8ab1",
   "metadata": {},
   "outputs": [],
   "source": []
  }
 ],
 "metadata": {
  "kernelspec": {
   "display_name": "Python [conda env:base] *",
   "language": "python",
   "name": "conda-base-py"
  },
  "language_info": {
   "codemirror_mode": {
    "name": "ipython",
    "version": 3
   },
   "file_extension": ".py",
   "mimetype": "text/x-python",
   "name": "python",
   "nbconvert_exporter": "python",
   "pygments_lexer": "ipython3",
   "version": "3.12.7"
  }
 },
 "nbformat": 4,
 "nbformat_minor": 5
}
